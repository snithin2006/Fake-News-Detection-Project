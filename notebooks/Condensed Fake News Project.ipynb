{
 "cells": [
  {
   "cell_type": "code",
   "execution_count": null,
   "metadata": {},
   "outputs": [],
   "source": [
    "import re\n",
    "import pandas as pd\n",
    "import numpy as np\n",
    "import matplotlib.pyplot as plt\n",
    "import seaborn as sns\n",
    "from sklearn.feature_extraction.text import CountVectorizer\n",
    "from sklearn.naive_bayes import MultinomialNB\n",
    "from sklearn.model_selection import train_test_split\n",
    "from sklearn.metrics import confusion_matrix\n",
    "from nltk.tokenize import word_tokenize\n",
    "from nltk.corpus import stopwords\n",
    "from sklearn.model_selection import KFold\n",
    "import seaborn as sns\n",
    "from sklearn.ensemble import RandomForestClassifier\n",
    "from sklearn.svm import SVC\n",
    "from sklearn import svm\n",
    "from sklearn.neural_network import MLPClassifier\n",
    "from sklearn.metrics import confusion_matrix, classification_report\n",
    "from sklearn.preprocessing import StandardScaler\n",
    "from sklearn.model_selection import train_test_split\n",
    "import seaborn as sns\n",
    "import csv\n",
    "import pandas as pd\n",
    "import os\n",
    "import nltk\n",
    "from nltk.corpus import stopwords\n",
    "import string\n",
    "import seaborn as sns\n",
    "from sklearn.pipeline import make_pipeline\n",
    "import nltk\n",
    "nltk.download('stopwords')\n",
    "nltk.download('punkt')\n",
    "%matplotlib inline\n",
    "\n",
    "\n",
    "df = pd.read_csv(\"fake_or_real_news.csv\", sep = \",\")"
   ]
  },
  {
   "cell_type": "code",
   "execution_count": null,
   "metadata": {},
   "outputs": [],
   "source": [
    "a = pd.read_csv(\"fake_or_real_news.csv\", sep = \",\")\n",
    "b1 = pd.read_csv(\"Fake.csv\", sep = \",\")\n",
    "b2 = pd.read_csv(\"True.csv\", sep = \",\")\n",
    "c = pd.read_csv(\"data.csv\", sep = \",\")"
   ]
  },
  {
   "cell_type": "code",
   "execution_count": null,
   "metadata": {},
   "outputs": [],
   "source": [
    "c['title_text_source'] = c['Headline'] + ' ' + c['Body']\n",
    "\n",
    "list_c = []\n",
    "for x in c['Label']:\n",
    "    if x==1:\n",
    "        list_c.append(\"REAL\")\n",
    "    elif x==0:\n",
    "        list_c.append(\"FAKE\")\n",
    "\n",
    "c[\"label\"] = list_c\n",
    "del c[\"Label\"]\n",
    "\n",
    "c"
   ]
  },
  {
   "cell_type": "code",
   "execution_count": null,
   "metadata": {},
   "outputs": [],
   "source": [
    "a['title_text_source'] = a['title'] + ' ' + a['text']\n",
    "c = c.fillna(\"\")"
   ]
  },
  {
   "cell_type": "code",
   "execution_count": null,
   "metadata": {},
   "outputs": [],
   "source": [
    "labels = []\n",
    "for x in range(len(b1)):\n",
    "    labels.append(\"FAKE\")\n",
    "    \n",
    "b1[\"label\"] = labels\n",
    "\n",
    "labels2 = []\n",
    "for x in range(len(b2)):\n",
    "    labels2.append(\"REAL\")\n",
    "    \n",
    "b2[\"label\"] = labels2\n",
    "\n",
    "print(len(b1) + len(b2))\n",
    "\n",
    "b = pd.concat([b1, b2], ignore_index=True)\n",
    "\n",
    "b['title_text_source'] = b['title'] + ' ' + b['text']\n",
    "\n",
    "b.head()"
   ]
  },
  {
   "cell_type": "code",
   "execution_count": null,
   "metadata": {},
   "outputs": [],
   "source": [
    "a = a[a['label']!='']\n",
    "print(a['label'].unique())\n",
    "\n",
    "b = b[b['label']!='']\n",
    "print(b['label'].unique())\n",
    "\n",
    "c = c[c['label']!='']\n",
    "print(c['label'].unique())"
   ]
  },
  {
   "cell_type": "code",
   "execution_count": null,
   "metadata": {},
   "outputs": [],
   "source": [
    "a.loc[a['label'] == 'fake', 'label'] = 'FAKE'\n",
    "a.loc[a['label'] == 'Fake', 'label'] = 'FAKE'\n",
    "\n",
    "no_of_fakes = a.loc[a['label'] == 'FAKE'].count()[0]\n",
    "no_of_reals = a.loc[a['label'] == 'REAL'].count()[0]\n",
    "print(no_of_fakes)\n",
    "print(no_of_reals)\n",
    "print(\"\\n\")\n",
    "\n",
    "\n",
    "b.loc[b['label'] == 'fake', 'label'] = 'FAKE'\n",
    "b.loc[b['label'] == 'Fake', 'label'] = 'FAKE'\n",
    "\n",
    "no_of_fakes_b = b.loc[b['label'] == 'FAKE'].count()[0]\n",
    "no_of_reals_b = b.loc[b['label'] == 'REAL'].count()[0]\n",
    "print(no_of_fakes_b)\n",
    "print(no_of_reals_b)\n",
    "print(\"\\n\")\n",
    "\n",
    "c.loc[c['label'] == 'fake', 'label'] = 'FAKE'\n",
    "c.loc[c['label'] == 'Fake', 'label'] = 'FAKE'\n",
    "\n",
    "no_of_fakes_c = c.loc[c['label'] == 'FAKE'].count()[0]\n",
    "no_of_reals_c = c.loc[c['label'] == 'REAL'].count()[0]\n",
    "print(no_of_fakes_c)\n",
    "print(no_of_reals_c)"
   ]
  },
  {
   "cell_type": "code",
   "execution_count": null,
   "metadata": {},
   "outputs": [],
   "source": [
    "stop_words = set(stopwords.words('english'))\n",
    "def clean(text):    \n",
    "    # Lowering letters\n",
    "    text = text.lower()\n",
    "    \n",
    "    # Removing html tags\n",
    "    text = re.sub(r'<[^>]*>', '', text)\n",
    "    \n",
    "    # Removing twitter usernames\n",
    "    text = re.sub(r'@[A-Za-z0-9]+','',text)\n",
    "    \n",
    "    # Removing urls\n",
    "    text = re.sub('https?://[A-Za-z0-9]','',text)\n",
    "    \n",
    "    # Removing numbers\n",
    "    text = re.sub('[^a-zA-Z]',' ',text)\n",
    "    \n",
    "    word_tokens = word_tokenize(text)\n",
    "    \n",
    "    filtered_sentence = []\n",
    "    for word_token in word_tokens:\n",
    "        if word_token not in stop_words:\n",
    "            filtered_sentence.append(word_token)\n",
    "    \n",
    "    # Joining words\n",
    "    text = (' '.join(filtered_sentence))\n",
    "    return text"
   ]
  },
  {
   "cell_type": "code",
   "execution_count": null,
   "metadata": {},
   "outputs": [],
   "source": [
    "a['title_text_source'] = a['title_text_source'].apply(clean)\n",
    "b['title_text_source'] = b['title_text_source'].apply(clean)\n",
    "c['title_text_source'] = c['title_text_source'].apply(clean)"
   ]
  },
  {
   "cell_type": "code",
   "execution_count": null,
   "metadata": {},
   "outputs": [],
   "source": [
    "vectorizer = CountVectorizer()\n",
    "X_a = vectorizer.fit_transform(a['title_text_source'].values)\n",
    "X_a = X_a.toarray()\n",
    "\n",
    "X_b = vectorizer.transform(b['title_text_source'].values)\n",
    "X_c = vectorizer.transform(c['title_text_source'].values)\n",
    "\n",
    "y_a = a['label'].values\n",
    "y_b = b['label'].values\n",
    "y_c = c['label'].values"
   ]
  },
  {
   "cell_type": "code",
   "execution_count": null,
   "metadata": {},
   "outputs": [],
   "source": [
    "x_list = [X_a, X_b, X_c]\n",
    "y_list = [y_a, y_b, y_c]"
   ]
  },
  {
   "cell_type": "code",
   "execution_count": null,
   "metadata": {},
   "outputs": [],
   "source": [
    "df['title_text_source'] = df['title'] + ' ' + df['text']\n",
    "df.head()"
   ]
  },
  {
   "cell_type": "code",
   "execution_count": null,
   "metadata": {},
   "outputs": [],
   "source": [
    "df = df[df['label']!='']\n",
    "print(df['label'].unique())"
   ]
  },
  {
   "cell_type": "code",
   "execution_count": null,
   "metadata": {},
   "outputs": [],
   "source": [
    "df.loc[df['label'] == 'fake', 'label'] = 'FAKE'\n",
    "df.loc[df['label'] == 'Fake', 'label'] = 'FAKE'\n",
    "\n",
    "no_of_fakes = df.loc[df['label'] == 'FAKE'].count()[0]\n",
    "no_of_reals = df.loc[df['label'] == 'REAL'].count()[0]\n",
    "print(no_of_fakes)\n",
    "print(no_of_reals)"
   ]
  },
  {
   "cell_type": "code",
   "execution_count": null,
   "metadata": {},
   "outputs": [],
   "source": [
    "df['title_text_source'] = df['title_text_source'].apply(clean)"
   ]
  },
  {
   "cell_type": "code",
   "execution_count": null,
   "metadata": {},
   "outputs": [],
   "source": [
    "vectorizer = CountVectorizer()\n",
    "X = vectorizer.fit_transform(df['title_text_source'].values)\n",
    "X = X.toarray()"
   ]
  },
  {
   "cell_type": "code",
   "execution_count": null,
   "metadata": {},
   "outputs": [],
   "source": [
    "import seaborn as sns"
   ]
  },
  {
   "cell_type": "markdown",
   "metadata": {},
   "source": [
    "## Random Forest Cross-Fold Validation"
   ]
  },
  {
   "cell_type": "code",
   "execution_count": null,
   "metadata": {},
   "outputs": [],
   "source": [
    "y = df['label'].values\n",
    "kf = KFold(n_splits=5)\n",
    "\n",
    "cv_results = {\n",
    "    \"sensitivity\" : [],\n",
    "    \"specificity\" : [],\n",
    "    \"accuracy\" : [],\n",
    "    \"npv\" : [],\n",
    "    \"precision\" : [],\n",
    "    \"cm\" : [],\n",
    "    \"f1\" : []\n",
    "}\n",
    "\n",
    "for train_index, test_index in kf.split(X):\n",
    "    print(\"TRAIN:\", train_index, \"TEST:\", test_index)\n",
    "    X_train, X_test = X[train_index], X[test_index]\n",
    "    y_train, y_test = y[train_index], y[test_index]\n",
    "    \n",
    "    \n",
    "    clf = RandomForestClassifier(n_estimators = 200)\n",
    "    clf.fit(X_train, y_train)\n",
    "\n",
    "    predictions = clf.predict(X_test)\n",
    "\n",
    "    cm = confusion_matrix(y_test, predictions)\n",
    "    \n",
    "    sensitivity = cm[1][1] / (cm[1][1] + cm[1][0])\n",
    "    specificity = cm[0][0] / (cm[0][0] + cm[0][1])\n",
    "    accuracy = (cm[1][1] + cm[0][0]) / (cm[0][0] + cm[0][1] + cm[1][0] + cm[1][1])\n",
    "    negative = cm[0][0] / (cm[0][0] + cm[1][0])\n",
    "    precision = cm[1][1] / (cm[1][1] + cm[0][1])\n",
    "    f1 = (2 * precision * sensitivity) / (precision + sensitivity)\n",
    "    \n",
    "    cv_results[\"sensitivity\"].append(sensitivity)\n",
    "    cv_results[\"specificity\"].append(specificity)\n",
    "    cv_results[\"accuracy\"].append(accuracy)\n",
    "    cv_results[\"npv\"].append(negative)\n",
    "    cv_results[\"precision\"].append(precision)\n",
    "    cv_results[\"cm\"].append(cm)\n",
    "    cv_results[\"f1\"].append(f1)"
   ]
  },
  {
   "cell_type": "code",
   "execution_count": null,
   "metadata": {},
   "outputs": [],
   "source": [
    "cm_mean = sum(cv_results[\"cm\"]) / 5\n",
    "\n",
    "plt.figure(figsize=(6,6))\n",
    "sns.heatmap(cm_mean, annot=True, fmt = \".1f\", xticklabels = ['FAKE', 'REAL'], yticklabels = ['FAKE', 'REAL'], cmap = plt.cm.Blues, cbar = False).set(title='Cross Validation Accuray - Random Forest')\n",
    "plt.xlabel('Predicted Label')\n",
    "plt.ylabel('True Label')\n",
    "plt.show()"
   ]
  },
  {
   "cell_type": "code",
   "execution_count": null,
   "metadata": {},
   "outputs": [],
   "source": [
    "print(f\"\"\"sensitivity: {np.mean(cv_results['sensitivity']):.3f} ± {np.std(cv_results['sensitivity']):.3f}\"\"\")\n",
    "print(f\"\"\"specificity: {np.mean(cv_results['specificity']):.2f} ± {np.std(cv_results['specificity']):.2f}\"\"\")\n",
    "print(f\"\"\"accuracy: {np.mean(cv_results['accuracy']):.3f} ± {np.std(cv_results['accuracy']):.3f}\"\"\")\n",
    "print(f\"\"\"npv: {np.mean(cv_results['npv']):.3f} ± {np.std(cv_results['npv']):.3f}\"\"\")\n",
    "print(f\"\"\"precision: {np.mean(cv_results['precision']):.2f} ± {np.std(cv_results['precision']):.2f}\"\"\")\n",
    "print(f\"\"\"f1: {np.mean(cv_results['f1']):.3f} ± {np.std(cv_results['f1']):.3f}\"\"\")"
   ]
  },
  {
   "cell_type": "markdown",
   "metadata": {},
   "source": [
    "## Random Forest External Validation"
   ]
  },
  {
   "cell_type": "code",
   "execution_count": null,
   "metadata": {},
   "outputs": [],
   "source": [
    "clf = RandomForestClassifier(n_estimators = 10)\n",
    "\n",
    "cv_results = {\n",
    "    \"sensitivity\" : [],\n",
    "    \"specificity\" : [],\n",
    "    \"accuracy\" : [],\n",
    "    \"npv\" : [],\n",
    "    \"precision\" : [],\n",
    "    \"cm\" : [],\n",
    "    \"f1\" : []\n",
    "}\n",
    "\n",
    "for i in range(len(x_list)):\n",
    "    clf.fit(x_list[i], y_list[i])\n",
    "    for j in range (len(x_list)):\n",
    "        predictions = clf.predict(x_list[j])\n",
    "        cm = confusion_matrix(y_list[j], predictions)\n",
    "        accuracy = (cm[1][1] + cm[0][0]) / (cm[0][0] + cm[0][1] + cm[1][0] + cm[1][1])\n",
    "        \n",
    "        first = \"\"\n",
    "        second = \"\"\n",
    "        \n",
    "        if i == 0:\n",
    "            first = \"A\"\n",
    "        elif i == 1:\n",
    "            first = \"B\"\n",
    "        elif i == 2:\n",
    "            first = \"C\"\n",
    "            \n",
    "        if j == 0:\n",
    "            second = \"A\"\n",
    "        elif j == 1:\n",
    "            second = \"B\"\n",
    "        elif j == 2:\n",
    "            second = \"C\"\n",
    "        \n",
    "        print(\"Fit on \" + first + \", Tested on \" + second + \" - accuracy: \" + str(accuracy))"
   ]
  },
  {
   "cell_type": "code",
   "execution_count": null,
   "metadata": {},
   "outputs": [],
   "source": [
    "list = [[0.9951065509076559, 0.6265535213149807, 0.6384730538922155], [0.5696921862667719, 0.9995545458595038, 0.7118263473053892], [0.5829518547750592, 0.6372666933939151, 0.9987524950099801]]\n",
    "map = sns.heatmap(list, xticklabels=[\"a\", \"b\", \"c\"], yticklabels=[\"a\", \"b\", \"c\"], annot=True, vmin=0, vmax=1, cmap=\"Blues\")\n",
    "map = map.set(xlabel='Testing Set', ylabel='Training Set', title='External Validation Accuray - Random Forest')\n",
    "map"
   ]
  },
  {
   "cell_type": "markdown",
   "metadata": {},
   "source": [
    "## Naive Bayes Cross-Fold Validation"
   ]
  },
  {
   "cell_type": "code",
   "execution_count": null,
   "metadata": {},
   "outputs": [],
   "source": [
    "y = df['label'].values\n",
    "kf = KFold(n_splits=5)\n",
    "\n",
    "cv_results = {\n",
    "    \"sensitivity\" : [],\n",
    "    \"specificity\" : [],\n",
    "    \"accuracy\" : [],\n",
    "    \"npv\" : [],\n",
    "    \"precision\" : [],\n",
    "    \"cm\" : [],\n",
    "    \"f1\" : []\n",
    "}\n",
    "\n",
    "for train_index, test_index in kf.split(X):\n",
    "    print(\"TRAIN:\", train_index, \"TEST:\", test_index)\n",
    "    X_train, X_test = X[train_index], X[test_index]\n",
    "    y_train, y_test = y[train_index], y[test_index]\n",
    "    \n",
    "    \n",
    "    clf = MultinomialNB()\n",
    "    clf.fit(X_train, y_train)\n",
    "\n",
    "    predictions = clf.predict(X_test)\n",
    "\n",
    "    cm = confusion_matrix(y_test, predictions)\n",
    "    \n",
    "    sensitivity = cm[1][1] / (cm[1][1] + cm[1][0])\n",
    "    specificity = cm[0][0] / (cm[0][0] + cm[0][1])\n",
    "    accuracy = (cm[1][1] + cm[0][0]) / (cm[0][0] + cm[0][1] + cm[1][0] + cm[1][1])\n",
    "    negative = cm[0][0] / (cm[0][0] + cm[1][0])\n",
    "    precision = cm[1][1] / (cm[1][1] + cm[0][1])\n",
    "    f1 = (2 * precision * sensitivity) / (precision + sensitivity)\n",
    "    \n",
    "    cv_results[\"sensitivity\"].append(sensitivity)\n",
    "    cv_results[\"specificity\"].append(specificity)\n",
    "    cv_results[\"accuracy\"].append(accuracy)\n",
    "    cv_results[\"npv\"].append(negative)\n",
    "    cv_results[\"precision\"].append(precision)\n",
    "    cv_results[\"cm\"].append(cm)\n",
    "    cv_results[\"f1\"].append(f1)"
   ]
  },
  {
   "cell_type": "code",
   "execution_count": null,
   "metadata": {},
   "outputs": [],
   "source": [
    "cm_mean = sum(cv_results[\"cm\"]) / 5\n",
    "\n",
    "plt.figure(figsize=(6,6))\n",
    "sns.heatmap(cm_mean, annot=True, fmt = \".1f\", xticklabels = ['FAKE', 'REAL'], yticklabels = ['FAKE', 'REAL'], cmap = plt.cm.Blues, cbar = False).set(title='Cross Validation Accuray - Naive Bayes')\n",
    "plt.xlabel('Predicted Label')\n",
    "plt.ylabel('True Label')\n",
    "plt.show()"
   ]
  },
  {
   "cell_type": "code",
   "execution_count": null,
   "metadata": {},
   "outputs": [],
   "source": [
    "print(f\"\"\"sensitivity: {np.mean(cv_results['sensitivity']):.3f} ± {np.std(cv_results['sensitivity']):.3f}\"\"\")\n",
    "print(f\"\"\"specificity: {np.mean(cv_results['specificity']):.2f} ± {np.std(cv_results['specificity']):.2f}\"\"\")\n",
    "print(f\"\"\"accuracy: {np.mean(cv_results['accuracy']):.3f} ± {np.std(cv_results['accuracy']):.3f}\"\"\")\n",
    "print(f\"\"\"npv: {np.mean(cv_results['npv']):.3f} ± {np.std(cv_results['npv']):.3f}\"\"\")\n",
    "print(f\"\"\"precision: {np.mean(cv_results['precision']):.2f} ± {np.std(cv_results['precision']):.2f}\"\"\")\n",
    "print(f\"\"\"f1: {np.mean(cv_results['f1']):.3f} ± {np.std(cv_results['f1']):.3f}\"\"\")"
   ]
  },
  {
   "cell_type": "markdown",
   "metadata": {},
   "source": [
    "## Naive Bayes External Validation"
   ]
  },
  {
   "cell_type": "code",
   "execution_count": null,
   "metadata": {},
   "outputs": [],
   "source": [
    "clf = MultinomialNB()\n",
    "\n",
    "for i in range(len(x_list)):\n",
    "    clf.fit(x_list[i], y_list[i])\n",
    "    for j in range (len(x_list)):\n",
    "        predictions = clf.predict(x_list[j])\n",
    "        cm = confusion_matrix(y_list[j], predictions)\n",
    "        accuracy = (cm[1][1] + cm[0][0]) / (cm[0][0] + cm[0][1] + cm[1][0] + cm[1][1])\n",
    "        \n",
    "        first = \"\"\n",
    "        second = \"\"\n",
    "        \n",
    "        if i == 0:\n",
    "            first = \"A\"\n",
    "        elif i == 1:\n",
    "            first = \"B\"\n",
    "        elif i == 2:\n",
    "            first = \"C\"\n",
    "            \n",
    "        if j == 0:\n",
    "            second = \"A\"\n",
    "        elif j == 1:\n",
    "            second = \"B\"\n",
    "        elif j == 2:\n",
    "            second = \"C\"\n",
    "        \n",
    "        print(\"Fit on \" + first + \", Tested on \" + second + \" - accuracy: \" + str(accuracy))"
   ]
  },
  {
   "cell_type": "code",
   "execution_count": null,
   "metadata": {},
   "outputs": [],
   "source": [
    "list = [[0.9363851617995265, 0.575148113501715, 0.5805888223552894], [0.5753749013417522, 0.9572141298053365, 0.7200598802395209], [0.6393054459352802, 0.6000044545414049, 0.9807884231536926]]\n",
    "map = sns.heatmap(list, xticklabels=[\"a\", \"b\", \"c\"], yticklabels=[\"a\", \"b\", \"c\"], annot=True, vmin=0, vmax=1, cmap=\"Blues\")\n",
    "map = map.set(xlabel='Testing Set', ylabel='Training Set', title='External Validation Accuray - Random Forest')\n",
    "map"
   ]
  },
  {
   "cell_type": "markdown",
   "metadata": {},
   "source": [
    "## SVM Cross-Fold Validation"
   ]
  },
  {
   "cell_type": "code",
   "execution_count": null,
   "metadata": {},
   "outputs": [],
   "source": [
    "y = df['label'].values\n",
    "kf = KFold(n_splits=5)\n",
    "\n",
    "cv_results = {\n",
    "    \"sensitivity\" : [],\n",
    "    \"specificity\" : [],\n",
    "    \"accuracy\" : [],\n",
    "    \"npv\" : [],\n",
    "    \"precision\" : [],\n",
    "    \"cm\" : [],\n",
    "    \"f1\" : []\n",
    "}\n",
    "\n",
    "for train_index, test_index in kf.split(X):\n",
    "    print(\"TRAIN:\", train_index, \"TEST:\", test_index)\n",
    "    X_train, X_test = X[train_index], X[test_index]\n",
    "    y_train, y_test = y[train_index], y[test_index]\n",
    "    \n",
    "    \n",
    "    clf = make_pipeline(StandardScaler(), SVC(gamma='auto'))\n",
    "    clf.fit(X_train, y_train)\n",
    "\n",
    "    predictions = clf.predict(X_test)\n",
    "\n",
    "    cm = confusion_matrix(y_test, predictions)\n",
    "    \n",
    "    sensitivity = cm[1][1] / (cm[1][1] + cm[1][0])\n",
    "    specificity = cm[0][0] / (cm[0][0] + cm[0][1])\n",
    "    accuracy = (cm[1][1] + cm[0][0]) / (cm[0][0] + cm[0][1] + cm[1][0] + cm[1][1])\n",
    "    negative = cm[0][0] / (cm[0][0] + cm[1][0])\n",
    "    precision = cm[1][1] / (cm[1][1] + cm[0][1])\n",
    "    f1 = (2 * precision * sensitivity) / (precision + sensitivity)\n",
    "    \n",
    "    cv_results[\"sensitivity\"].append(sensitivity)\n",
    "    cv_results[\"specificity\"].append(specificity)\n",
    "    cv_results[\"accuracy\"].append(accuracy)\n",
    "    cv_results[\"npv\"].append(negative)\n",
    "    cv_results[\"precision\"].append(precision)\n",
    "    cv_results[\"cm\"].append(cm)\n",
    "    cv_results[\"f1\"].append(f1)"
   ]
  },
  {
   "cell_type": "code",
   "execution_count": null,
   "metadata": {},
   "outputs": [],
   "source": [
    "cm_mean = sum(cv_results[\"cm\"]) / 5\n",
    "\n",
    "plt.figure(figsize=(6,6))\n",
    "sns.heatmap(cm_mean, annot=True, fmt = \".1f\", xticklabels = ['FAKE', 'REAL'], yticklabels = ['FAKE', 'REAL'], cmap = plt.cm.Blues, cbar = False).set(title='Cross Validation Accuray - SVM')\n",
    "plt.xlabel('Predicted Label')\n",
    "plt.ylabel('True Label')\n",
    "plt.show()"
   ]
  },
  {
   "cell_type": "code",
   "execution_count": null,
   "metadata": {},
   "outputs": [],
   "source": [
    "print(f\"\"\"sensitivity: {np.mean(cv_results['sensitivity']):.3f} ± {np.std(cv_results['sensitivity']):.3f}\"\"\")\n",
    "print(f\"\"\"specificity: {np.mean(cv_results['specificity']):.2f} ± {np.std(cv_results['specificity']):.2f}\"\"\")\n",
    "print(f\"\"\"accuracy: {np.mean(cv_results['accuracy']):.3f} ± {np.std(cv_results['accuracy']):.3f}\"\"\")\n",
    "print(f\"\"\"npv: {np.mean(cv_results['npv']):.3f} ± {np.std(cv_results['npv']):.3f}\"\"\")\n",
    "print(f\"\"\"precision: {np.mean(cv_results['precision']):.2f} ± {np.std(cv_results['precision']):.2f}\"\"\")\n",
    "print(f\"\"\"f1: {np.mean(cv_results['f1']):.3f} ± {np.std(cv_results['f1']):.3f}\"\"\")"
   ]
  },
  {
   "cell_type": "markdown",
   "metadata": {},
   "source": [
    "## SVM External Validation"
   ]
  },
  {
   "cell_type": "code",
   "execution_count": null,
   "metadata": {},
   "outputs": [],
   "source": [
    "vectorizer = CountVectorizer()\n",
    "\n",
    "X_a = vectorizer.fit_transform(a['title_text_source'].values)\n",
    "X_a = X_a.toarray()\n",
    "\n",
    "X_b = vectorizer.transform(b['title_text_source'].values)\n",
    "X_b = X_b.toarray()\n",
    "\n",
    "X_c = vectorizer.transform(c['title_text_source'].values)\n",
    "X_c = X_c.toarray()\n",
    "\n",
    "y_a = a['label'].values\n",
    "y_b = b['label'].values\n",
    "y_c = c['label'].values"
   ]
  },
  {
   "cell_type": "code",
   "execution_count": null,
   "metadata": {},
   "outputs": [],
   "source": [
    "x_list = [X_a, X_c]\n",
    "y_list = [y_a, y_c]"
   ]
  },
  {
   "cell_type": "code",
   "execution_count": null,
   "metadata": {},
   "outputs": [],
   "source": [
    "clf = make_pipeline(StandardScaler(with_mean=False), SVC(gamma='auto'))"
   ]
  },
  {
   "cell_type": "code",
   "execution_count": null,
   "metadata": {},
   "outputs": [],
   "source": [
    "for i in range(len(x_list)):\n",
    "    clf.fit(x_list[i], y_list[i])\n",
    "    for j in range (len(x_list)):\n",
    "        predictions = clf.predict(x_list[j])\n",
    "        cm = confusion_matrix(y_list[j], predictions)\n",
    "        accuracy = (cm[1][1] + cm[0][0]) / (cm[0][0] + cm[0][1] + cm[1][0] + cm[1][1])\n",
    "        \n",
    "        first = \"\"\n",
    "        second = \"\"\n",
    "        \n",
    "        if i == 0:\n",
    "            first = \"A\"\n",
    "        elif i == 1:\n",
    "            first = \"C\"\n",
    "            \n",
    "        if j == 0:\n",
    "            second = \"A\"\n",
    "        elif j == 1:\n",
    "            second = \"C\"\n",
    "        \n",
    "        print(\"Fit on \" + first + \", Tested on \" + second + \" - accuracy: \" + str(accuracy))"
   ]
  },
  {
   "cell_type": "code",
   "execution_count": null,
   "metadata": {},
   "outputs": [],
   "source": [
    "Fit on A, Tested on A - accuracy: 0.9403314917127071\n",
    "Fit on A, Tested on C - accuracy: 0.5765968063872255\n",
    "Fit on C, Tested on A - accuracy: 0.5957379636937647\n",
    "Fit on C, Tested on C - accuracy: 0.9239021956087824"
   ]
  },
  {
   "cell_type": "code",
   "execution_count": null,
   "metadata": {},
   "outputs": [],
   "source": [
    "list = [[0.9403314917127071, 0.5765968063872255], [0.5957379636937647, 0.9239021956087824]]\n",
    "map = sns.heatmap(list, xticklabels=[\"a\", \"c\"], yticklabels=[\"a\", \"c\"], annot=True, vmin=0, vmax=1, cmap=\"Blues\")\n",
    "map = map.set(xlabel='Testing Set', ylabel='Training Set', title='External Validation Accuray - SVM')\n",
    "map"
   ]
  }
 ],
 "metadata": {
  "kernelspec": {
   "display_name": "Python 3",
   "language": "python",
   "name": "python3"
  },
  "language_info": {
   "codemirror_mode": {
    "name": "ipython",
    "version": 3
   },
   "file_extension": ".py",
   "mimetype": "text/x-python",
   "name": "python",
   "nbconvert_exporter": "python",
   "pygments_lexer": "ipython3",
   "version": "3.8.3"
  }
 },
 "nbformat": 4,
 "nbformat_minor": 4
}
